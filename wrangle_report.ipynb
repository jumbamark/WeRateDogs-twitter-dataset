{
 "cells": [
  {
   "cell_type": "markdown",
   "metadata": {},
   "source": [
    "# Project Report\n",
    "- WeRateDogs is a Twitter account that rates people's dogs with a humorous content about the dog\n",
    "- This report documents the steps taken to gather, clean and store the data.\n",
    "\n",
    "## Gathering\n",
    "- The project includes three datasets, the first dataset was a csv ,`twitter-archive-enhanced.csv`, provided by Udacity that required manual downloading, the second dataset was a tab separated value text hosted on Udacty;s servers and was downloaded programmatically using the `Requests` library. The final was additional data from the twitter API, using the `tweet_ids` in the first dataset I queried the API for each tweets JSON data using the python's `Tweepy` library and stored each entire set of json data in a file called `tweet_json.txt` file\n",
    "\n",
    "## Accessing the data\n",
    "- The data was programmatically and visually accessed and the following issues were identified:\n",
    "\n",
    "### Quality issues\n",
    "1. Retweets and replies were identified and dropped\n",
    "2. Ratings were not properly extracted and even after extraction some had invaluid values\n",
    "3. The `rating_denominator` and `expanded_url` were dropped as they will not impact our analysis. The `rating_nnumerator` was renamed to `rating`\n",
    "4. The `timestamp` column is in the wrong data type and was converted to datetime\n",
    "5. The source column had text in the anchor tag and we needed to extract only the text\n",
    "6. Some rows contain non dog ratings and were dropped\n",
    "7. Invalid names were renamed to \"None\"\n",
    "8. Outliers in the third dataset were dropped\n",
    "\n",
    "### Tidiness\n",
    "1. The columns doggo, floofer, pupper an puppo will be combined into one\n",
    "2. The columns p1, p1_conf, p1_dog, p2, p2_conf, p2_dog, p3, p3_conf, p3_dog will be combined into two columns; breed and confidence\n",
    "3 The three datasets will be combined as a one-combinied dataset\n",
    "\n",
    "## Cleaning\n",
    "- The datatypes of the columns `img_num`, `retweet_count` and `likes` in the combined dataset were converted to `int64`\n",
    "\n",
    "## Storing\n",
    "- The data was stored in a sfile called `twitter_archive_master.csv`"
   ]
  }
 ],
 "metadata": {
  "kernelspec": {
   "display_name": "Python 3.9.12 ('rate_dogs')",
   "language": "python",
   "name": "python3"
  },
  "language_info": {
   "name": "python",
   "version": "3.9.12"
  },
  "orig_nbformat": 4,
  "vscode": {
   "interpreter": {
    "hash": "8478240a92b25aab0f60abafd4434b135fd9d08b3793a718f8d675a7890e6519"
   }
  }
 },
 "nbformat": 4,
 "nbformat_minor": 2
}
