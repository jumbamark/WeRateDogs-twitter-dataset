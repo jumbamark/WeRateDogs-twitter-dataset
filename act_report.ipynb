{
 "cells": [
  {
   "attachments": {},
   "cell_type": "markdown",
   "metadata": {},
   "source": [
    "## We Rate Dogs Twitter Dataset Wrangling External Report\n",
    "- Ever looked through Twitter and tried to find which gadget most tweeter users tweet from or bettter still looked for some interesting dog pictures to make you mood better? Or have you thought of whether different stages of dogs like doggo and floofer may have different ratings, like one is more cute than the others?\n",
    "- Fortunately for you, these questions will be answered in this research.\n",
    "\n",
    "- This report discusses the key insight and visualization from the cleaned `twitter_archive_master.csv` dataset by some analytic methods.\n",
    "- Three questions are illustrated in the analysis;\n",
    "\n",
    "### 1. What is the source of most tweets?\n",
    "- A bar graph is used to answer this question\n",
    "\n",
    "        ![sources.png](assets/sources.png)\n",
    "\n",
    "- The source of most tweets was iPhones with a count above 1500 as compared to Twitterweb client and TweetDeck which had a count of below of 250\n",
    "\n",
    "### 2.  What is the relationship between dog_stages and rating?\n",
    "\n",
    "                ![violin](assets/stages_rating1.png)\n",
    "\n",
    "                ![bar](assets/stages_rating2.png)\n",
    "\n",
    "- The violin plot is used to depict the relationship between type, the categorical variable, and rating. Also, the adapted bar chart is used to depict the relationship between type and average rating. From the two plots, Without considering doggo,poppo, doggo,floofer, and np.nan stage, the pupper has a lower median of rating than other four stages. The pupper and doggo,pupper has a wider range of rating. The mode of rating of puppo is higher than others. The average rating of these five types are nearly the same, with all of them over 10.\n",
    "\n",
    "### 3. What is the correlation between the columns in the dataset?\n",
    "- The correlation between the columns in the dataset is shown in the below table.\n",
    "\n",
    "        ![correlation](assets/correlation.png)\n",
    "\n",
    "- From the above visualization it is evident that the highest correlation is between `retweet_count` and `likes`."
   ]
  }
 ],
 "metadata": {
  "kernelspec": {
   "display_name": "Python 3 (ipykernel)",
   "language": "python",
   "name": "python3"
  },
  "language_info": {
   "codemirror_mode": {
    "name": "ipython",
    "version": 3
   },
   "file_extension": ".py",
   "mimetype": "text/x-python",
   "name": "python",
   "nbconvert_exporter": "python",
   "pygments_lexer": "ipython3",
   "version": "3.9.12"
  }
 },
 "nbformat": 4,
 "nbformat_minor": 2
}
